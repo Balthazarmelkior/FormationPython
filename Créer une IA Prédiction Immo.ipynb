{
  "nbformat": 4,
  "nbformat_minor": 0,
  "metadata": {
    "colab": {
      "provenance": [],
      "include_colab_link": true
    },
    "kernelspec": {
      "name": "python3",
      "display_name": "Python 3"
    },
    "language_info": {
      "name": "python"
    }
  },
  "cells": [
    {
      "cell_type": "markdown",
      "metadata": {
        "id": "view-in-github",
        "colab_type": "text"
      },
      "source": [
        "<a href=\"https://colab.research.google.com/github/Balthazarmelkior/FormationPython/blob/main/Cr%C3%A9er%20une%20IA%20Pr%C3%A9diction%20Immo.ipynb\" target=\"_parent\"><img src=\"https://colab.research.google.com/assets/colab-badge.svg\" alt=\"Open In Colab\"/></a>"
      ]
    },
    {
      "cell_type": "markdown",
      "source": [
        "Importer les bibliothèques"
      ],
      "metadata": {
        "id": "8DPAfoZiBXQ5"
      }
    },
    {
      "cell_type": "code",
      "execution_count": null,
      "metadata": {
        "id": "-HDI5mdh5Wc4"
      },
      "outputs": [],
      "source": [
        "from sklearn.metrics import mean_squared_error\n",
        "import xgboost\n",
        "import pandas"
      ]
    },
    {
      "cell_type": "markdown",
      "source": [
        "Obtenir l'ensemble de données"
      ],
      "metadata": {
        "id": "NjEo44AiBcu4"
      }
    },
    {
      "cell_type": "code",
      "source": [
        "dataset = pandas.read_csv('/content/sample_data/california_housing_train.csv')\n",
        "X = dataset.loc[:, dataset.columns != \"median_house_value\"]\n",
        "y = dataset[\"median_house_value\"]"
      ],
      "metadata": {
        "id": "OneasUNx6G-X"
      },
      "execution_count": null,
      "outputs": []
    },
    {
      "cell_type": "markdown",
      "source": [
        "Faire le modèle"
      ],
      "metadata": {
        "id": "ZUtAG18mBttO"
      }
    },
    {
      "cell_type": "code",
      "source": [
        "model = xgboost.XGBRegressor()\n",
        "model.fit(X, y)"
      ],
      "metadata": {
        "id": "WB0VdECn7B7B"
      },
      "execution_count": null,
      "outputs": []
    },
    {
      "cell_type": "markdown",
      "source": [
        "Evaluer le modèle"
      ],
      "metadata": {
        "id": "P7gDga6SB_Df"
      }
    },
    {
      "cell_type": "code",
      "source": [
        "test_dataset = pandas.read_csv('/content/sample_data/california_housing_test.csv')\n",
        "X_test = test_dataset.loc[:, test_dataset.columns != \"median_house_value\"]\n",
        "y_test = test_dataset[\"median_house_value\"]"
      ],
      "metadata": {
        "id": "fneWD8k-8Yex"
      },
      "execution_count": null,
      "outputs": []
    },
    {
      "cell_type": "code",
      "source": [
        "pred = model.predict(X_test)\n",
        "\n",
        "print(mean_squared_error(y_test, pred))"
      ],
      "metadata": {
        "colab": {
          "base_uri": "https://localhost:8080/"
        },
        "id": "ZwKDCyyg8CiM",
        "outputId": "584b51c0-3523-4493-b810-e15697ebcf5d"
      },
      "execution_count": null,
      "outputs": [
        {
          "output_type": "stream",
          "name": "stdout",
          "text": [
            "2306303235.108537\n"
          ]
        }
      ]
    }
  ]
}